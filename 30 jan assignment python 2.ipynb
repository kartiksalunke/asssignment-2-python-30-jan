{
 "cells": [
  {
   "cell_type": "markdown",
   "id": "e7be936b-e9fd-492c-bbf9-699f10aab432",
   "metadata": {},
   "source": [
    "Q.1"
   ]
  },
  {
   "cell_type": "code",
   "execution_count": 5,
   "id": "c5de21ad-8264-4b7a-816c-c613ed66aa31",
   "metadata": {},
   "outputs": [
    {
     "name": "stdin",
     "output_type": "stream",
     "text": [
      "enter your marks 50\n"
     ]
    },
    {
     "name": "stdout",
     "output_type": "stream",
     "text": [
      "your grade is D\n"
     ]
    }
   ],
   "source": [
    "marks = int(input(\"enter your marks\"))\n",
    "if marks >90 :\n",
    "    print(\"your grade is A\")\n",
    "elif marks >80 and marks <=90 :\n",
    "     print(\"your grade is B\")\n",
    "elif marks >=60 and marks <=80 :\n",
    "    print(\"your grade is C\")\n",
    "elif marks <60 :\n",
    "     print(\"your grade is D\")"
   ]
  },
  {
   "cell_type": "markdown",
   "id": "5e706e65-314c-4e2d-bd23-7d4a32418a3f",
   "metadata": {},
   "source": [
    "Q.2 "
   ]
  },
  {
   "cell_type": "code",
   "execution_count": 18,
   "id": "4cf61636-30f1-40b8-b683-5665a89fe5de",
   "metadata": {},
   "outputs": [
    {
     "name": "stdin",
     "output_type": "stream",
     "text": [
      "enter your cost price 50000\n"
     ]
    },
    {
     "name": "stdout",
     "output_type": "stream",
     "text": [
      "your road tax is 5%\n"
     ]
    }
   ],
   "source": [
    "Price = int(input(\"enter your cost price\"))\n",
    "if Price >100000 :\n",
    "    print(\"your road tax is 15% \")\n",
    "elif Price >50000 and Price <=100000 :\n",
    "    print(\"your road tax is  10%\")\n",
    "elif Price <=50000 :\n",
    "    print(\"your road tax is 5%\")"
   ]
  },
  {
   "cell_type": "markdown",
   "id": "bfbfd04e-3c83-4cf3-a4a0-a56cf6cac02b",
   "metadata": {},
   "source": [
    "Q.3."
   ]
  },
  {
   "cell_type": "code",
   "execution_count": 2,
   "id": "60c01478-7286-4182-a9b5-831e0c976bd9",
   "metadata": {},
   "outputs": [
    {
     "name": "stdin",
     "output_type": "stream",
     "text": [
      "enter your city delhi\n"
     ]
    },
    {
     "name": "stdout",
     "output_type": "stream",
     "text": [
      "monument of your city is red fort\n"
     ]
    }
   ],
   "source": [
    "city = input(\"enter your city\")\n",
    "if city == \"delhi\" :\n",
    "    print(\"monument of your city is red fort\")\n",
    "if city == \"agra\" :\n",
    "    print(\"monument of your city is Tajmahal\")\n",
    "if city == \"Jaipur\" :\n",
    "    print(\"monument of your city is jal mahal\")"
   ]
  },
  {
   "cell_type": "markdown",
   "id": "f88d16f6-3b60-450a-8428-9f849e496823",
   "metadata": {},
   "source": [
    "Q.4 "
   ]
  },
  {
   "cell_type": "code",
   "execution_count": 4,
   "id": "b4abeef5-b38b-4dd9-be9d-059932d9ff1e",
   "metadata": {},
   "outputs": [
    {
     "name": "stdin",
     "output_type": "stream",
     "text": [
      "enter the number 41\n"
     ]
    },
    {
     "name": "stdout",
     "output_type": "stream",
     "text": [
      "2\n"
     ]
    }
   ],
   "source": [
    "num = int(input(\"enter the number\"))\n",
    "count = 0\n",
    "while num> 10 :\n",
    "    num = num / 3\n",
    "    count +=1\n",
    "print(count)"
   ]
  },
  {
   "cell_type": "markdown",
   "id": "cbc54b82-67b5-43e6-a8b2-93d379ea17fd",
   "metadata": {},
   "source": [
    "Q.5 "
   ]
  },
  {
   "cell_type": "markdown",
   "id": "43b18f1d-86e7-4504-8c48-3f176162617d",
   "metadata": {},
   "source": [
    "'''Ans =>In  Python while loop is used to run a block code until a certain condition is met.\n",
    "      The syntax of while loop is:\n",
    "      while condition:\n",
    "      # body of while loop\n",
    "      Here,\n",
    "      A while loop evaluates the condition\n",
    "      If the condition evaluates to True, the code inside the while loop is executed.\n",
    "      condition is evaluated again.\n",
    "      This process continues until the condition is False.\n",
    "      When condition evaluates to False, the loop stops'''\n"
   ]
  },
  {
   "cell_type": "code",
   "execution_count": 6,
   "id": "87930d79-4264-4800-ad4c-76ce7d0d88d8",
   "metadata": {},
   "outputs": [
    {
     "name": "stdin",
     "output_type": "stream",
     "text": [
      "enter the number 45\n"
     ]
    },
    {
     "name": "stdout",
     "output_type": "stream",
     "text": [
      "2\n"
     ]
    }
   ],
   "source": [
    "#example\n",
    "num = int(input(\"enter the number\"))\n",
    "count = 0\n",
    "while num> 10 :\n",
    "    num = num / 3\n",
    "    count +=1\n",
    "print(count)"
   ]
  },
  {
   "cell_type": "markdown",
   "id": "9a4f43da-2a41-437d-b1b4-1751f8279303",
   "metadata": {},
   "source": [
    "Q.6"
   ]
  },
  {
   "cell_type": "code",
   "execution_count": 7,
   "id": "9016985e-f159-4464-bea0-b36dc12e098a",
   "metadata": {},
   "outputs": [
    {
     "name": "stdout",
     "output_type": "stream",
     "text": [
      "*\n",
      "**\n",
      "***\n",
      "****\n",
      "*****\n",
      "--------\n",
      "/////\n",
      "////\n",
      "///\n",
      "//\n",
      "/\n",
      "--------\n",
      "*\n",
      "**\n",
      "***\n",
      "****\n",
      "*****\n"
     ]
    }
   ],
   "source": [
    "# pattern 1:\n",
    "i = 1\n",
    "while i <= 5 :\n",
    "    j = 1\n",
    "    while j <= i :\n",
    "        print (\"*\", end =\"\")\n",
    "        j +=1\n",
    "    print(\"\")\n",
    "    i += 1\n",
    "    \n",
    "print(\"--------\")\n",
    "\n",
    "# pattern 2 :\n",
    "i = 5 \n",
    "while i >= 1 :\n",
    "    j = i\n",
    "    while j >= 1 :\n",
    "        print(\"/\",end = \"\")\n",
    "        j -= 1\n",
    "    print(\"\")\n",
    "    i -= 1\n",
    "    \n",
    "print(\"--------\")\n",
    "    \n",
    "#pattern 3 :\n",
    "i = 5\n",
    "while i >= 1 :\n",
    "    j = 1\n",
    "    while j <=5 :\n",
    "        if j >=i :\n",
    "            print(\"*\" ,  end = \"\")\n",
    "        j += 1\n",
    "    print(\"\")\n",
    "    i -= 1\n",
    "    "
   ]
  },
  {
   "cell_type": "markdown",
   "id": "2e21df0c-69c7-40ae-8357-e8be42d91ea7",
   "metadata": {},
   "source": [
    "Q.7"
   ]
  },
  {
   "cell_type": "code",
   "execution_count": 10,
   "id": "5c5738c3-8dc3-479f-af31-e30790d89bb3",
   "metadata": {},
   "outputs": [
    {
     "name": "stdout",
     "output_type": "stream",
     "text": [
      "9\n",
      "8\n",
      "7\n",
      "6\n",
      "5\n",
      "4\n",
      "3\n",
      "2\n",
      "1\n",
      "0\n"
     ]
    }
   ],
   "source": [
    "i = 10\n",
    "while i > 0 :\n",
    "    i = i -1\n",
    "    print(i)"
   ]
  },
  {
   "cell_type": "code",
   "execution_count": null,
   "id": "5274909b-3e15-481d-a420-b934b07a20b7",
   "metadata": {},
   "outputs": [],
   "source": []
  }
 ],
 "metadata": {
  "kernelspec": {
   "display_name": "Python 3 (ipykernel)",
   "language": "python",
   "name": "python3"
  },
  "language_info": {
   "codemirror_mode": {
    "name": "ipython",
    "version": 3
   },
   "file_extension": ".py",
   "mimetype": "text/x-python",
   "name": "python",
   "nbconvert_exporter": "python",
   "pygments_lexer": "ipython3",
   "version": "3.10.8"
  }
 },
 "nbformat": 4,
 "nbformat_minor": 5
}
